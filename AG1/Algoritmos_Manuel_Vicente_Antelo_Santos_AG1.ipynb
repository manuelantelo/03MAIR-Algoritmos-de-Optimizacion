{
  "nbformat": 4,
  "nbformat_minor": 0,
  "metadata": {
    "colab": {
      "provenance": [],
      "include_colab_link": true
    },
    "kernelspec": {
      "name": "python3",
      "display_name": "Python 3"
    }
  },
  "cells": [
    {
      "cell_type": "markdown",
      "metadata": {
        "id": "view-in-github",
        "colab_type": "text"
      },
      "source": [
        "<a href=\"https://colab.research.google.com/github/manuelantelo/03MAIR-Algoritmos-de-Optimizaci-n/blob/master/AG1/Algoritmos_Manuel_Vicente_Antelo_Santos_AG1.ipynb\" target=\"_parent\"><img src=\"https://colab.research.google.com/assets/colab-badge.svg\" alt=\"Open In Colab\"/></a>"
      ]
    },
    {
      "cell_type": "markdown",
      "metadata": {
        "id": "kQn6fbhgtH9I"
      },
      "source": [
        "#Algoritmos - Actividad Guiada 1\n",
        "\n",
        "Nombre: Manuel Vicente Antelo Santos<br>\n",
        "URL: https://colab.research.google.com/drive/1rQ2FzHTQwV5Hdo3_TeS3OIf0NEciLC6z?usp=sharing\n",
        "\n",
        "https://github.com/manuelantelo/03MAIR-Algoritmos-de-Optimizaci-n/blob/master/AG1/Algoritmos_AG1.ipynb"
      ]
    },
    {
      "cell_type": "markdown",
      "metadata": {
        "id": "_t62Ge7ZuKnC"
      },
      "source": [
        "##Torres de Hanoi con Divide y vencerás"
      ]
    },
    {
      "cell_type": "code",
      "metadata": {
        "colab": {
          "base_uri": "https://localhost:8080/"
        },
        "id": "i32G0CUQvauE",
        "outputId": "6e63cc35-a42b-4837-8de2-2f9706fe8ebd"
      },
      "source": [
        "def Torres_Hanoi(N, desde, hasta):\n",
        "  if N ==1 :\n",
        "    print(\"Lleva la ficha \" ,desde , \" hasta \", hasta)\n",
        "\n",
        "  else:\n",
        "    # Explicación del valor 6-desde-hasta\n",
        "    # Las torres están numeradas del 1 al 3 por lo que la suma de 1+2+3=6 nos permite saber\n",
        "    # que si se sabe el origen y el destino se saberá cual es la torre auxiliar\n",
        "    # Ej. Si origen=1, destino=3 -> 6-1-3= 2 (torre 2)\n",
        "\n",
        "    #Torres_Hanoi(N-1, desde, 6-desde-hasta) : Mueve N-1 fichas al poste auxiliar\n",
        "    Torres_Hanoi(N-1, desde, 6-desde-hasta)\n",
        "\n",
        "    print(\"Lleva la ficha \" ,desde , \" hasta \", hasta)\n",
        "\n",
        "    #Torres_Hanoi(N-1,6-desde-hasta, hasta  : Mueve N-1 fichas del poste auxiliar al poste destino)\n",
        "    Torres_Hanoi(N-1, 6-desde-hasta, hasta)\n",
        "\n",
        "\n",
        "Torres_Hanoi(3, 1 , 3)\n",
        "\n",
        "# el resultado para 3 discos será: O(2^n-1)= 2^3-1= 7 movimientos"
      ],
      "execution_count": null,
      "outputs": [
        {
          "output_type": "stream",
          "name": "stdout",
          "text": [
            "Lleva la ficha  1  hasta  3\n",
            "Lleva la ficha  1  hasta  2\n",
            "Lleva la ficha  3  hasta  2\n",
            "Lleva la ficha  1  hasta  3\n",
            "Lleva la ficha  2  hasta  1\n",
            "Lleva la ficha  2  hasta  3\n",
            "Lleva la ficha  1  hasta  3\n"
          ]
        }
      ]
    },
    {
      "cell_type": "code",
      "source": [
        "# MEJORA PROPUESTA para resolver las \"Torres_Hanoi\"\n",
        "def variante_Torres_Hanoy(n, origen, destino, auxiliar):\n",
        "  \"\"\"\n",
        "   Parámetros:\n",
        "   - n: número de discos que se quieren mover\n",
        "   - origen: torre origen (1)\n",
        "   - destino: torre destino (3)\n",
        "   - auxiliar: torre auxiliar (2)\n",
        "  \"\"\"\n",
        "  #1 Si sólo hay un disco lo movemos hasta su distino directamente\n",
        "  if n==1:\n",
        "    print(\"Llevar la ficha desde la torre\", origen, \"hasta la torre\", destino)\n",
        "    return\n",
        "\n",
        "  #2 Mover n-1 discos a la torre auxiliar (DIVIDIR)\n",
        "  # Llamada recursiva para mover los n-1 discos superiores a la torre auxiliar.\n",
        "  # Esto crea un subproblema más pequeño, con el objetivo de liberar el disco más grande (el n).\n",
        "  variante_Torres_Hanoy(n-1, origen, auxiliar, destino)\n",
        "\n",
        "  #3 Una vez que los n-1 discos están en el auxiliar, movemos el disco más grande (n) al destino.\n",
        "  print(\"Llevar la ficha desde la torre\", origen, \"hasta la torre\", destino)\n",
        "\n",
        "  #4 Ahora movemos los n-1 discos desde la torre auxiliar a la torre destino usando la torre original como auxiliar\n",
        "  variante_Torres_Hanoy(n-1, auxiliar, destino, origen)\n",
        "\n",
        "# Ejemplo\n",
        "variante_Torres_Hanoy(3, 1, 3, 2)"
      ],
      "metadata": {
        "colab": {
          "base_uri": "https://localhost:8080/"
        },
        "id": "sljAKiRt1P_9",
        "outputId": "f02f0303-af3f-4165-8496-bb9837733d43"
      },
      "execution_count": null,
      "outputs": [
        {
          "output_type": "stream",
          "name": "stdout",
          "text": [
            "Llevar la ficha desde la torre 1 hasta la torre 3\n",
            "Llevar la ficha desde la torre 1 hasta la torre 2\n",
            "Llevar la ficha desde la torre 3 hasta la torre 2\n",
            "Llevar la ficha desde la torre 1 hasta la torre 3\n",
            "Llevar la ficha desde la torre 2 hasta la torre 1\n",
            "Llevar la ficha desde la torre 2 hasta la torre 3\n",
            "Llevar la ficha desde la torre 1 hasta la torre 3\n"
          ]
        }
      ]
    },
    {
      "cell_type": "code",
      "metadata": {
        "colab": {
          "base_uri": "https://localhost:8080/"
        },
        "id": "74qZZAekiNYR",
        "outputId": "35f37bab-a48f-4f34-a7b5-264de22780ab"
      },
      "source": [
        "#Sucesión_de_Fibonacci\n",
        "#https://es.wikipedia.org/wiki/Sucesi%C3%B3n_de_Fibonacci\n",
        "#Calculo del termino n-simo de la suscesión de Fibonacci\n",
        "def Fibonacci(N:int):\n",
        "  if N < 2:\n",
        "    return 1\n",
        "  else:\n",
        "    return Fibonacci(N-1)+Fibonacci(N-2)\n",
        "\n",
        "Fibonacci(5)"
      ],
      "execution_count": null,
      "outputs": [
        {
          "output_type": "execute_result",
          "data": {
            "text/plain": [
              "8"
            ]
          },
          "metadata": {},
          "execution_count": 10
        }
      ]
    },
    {
      "cell_type": "markdown",
      "metadata": {
        "id": "RgT5XJsZ429L"
      },
      "source": [
        "##Devolución de cambio por técnica voraz"
      ]
    },
    {
      "cell_type": "code",
      "metadata": {
        "id": "uJtftBLU4-ap",
        "colab": {
          "base_uri": "https://localhost:8080/"
        },
        "outputId": "15fa3f6d-3ffa-4576-abb2-0e3a148defa7"
      },
      "source": [
        "def cambio_monedas(N, SM):\n",
        "  SOLUCION = [0]*len(SM)   #SOLUCION = [0,0,0,0,..]\n",
        "  ValorAcumulado = 0\n",
        "\n",
        "  for i,valor in enumerate(SM):\n",
        "    monedas =  (N-ValorAcumulado)//valor\n",
        "    SOLUCION[i] = monedas\n",
        "    ValorAcumulado = ValorAcumulado + monedas*valor\n",
        "\n",
        "    if ValorAcumulado == N:\n",
        "      return SOLUCION\n",
        "\n",
        "\n",
        "cambio_monedas(15,[25,10,5,1])"
      ],
      "execution_count": null,
      "outputs": [
        {
          "output_type": "execute_result",
          "data": {
            "text/plain": [
              "[0, 1, 1, 0]"
            ]
          },
          "metadata": {},
          "execution_count": 11
        }
      ]
    },
    {
      "cell_type": "code",
      "source": [
        "# MEJORA PROPUESTA para resolver el \"cambio de monedas\"\n",
        "# Si al código de la solución se le pide el \"cambio_monedas(15, [1, 5, 10, 25])\" su resultado será [15, 0, 0, 0]\n",
        "# Es decir, usa 15 monedas de 1 cuando lo óptimo será usar 1 moneda de 5 y 1 moneda de 10.\n",
        "# Conclusión: La lista de monedas (SM) debe de estar ordenada de mayor a menor para que el resultado sea óptimo\n",
        "\n",
        "def variante_cambio_monedas(N, SM):\n",
        "  print(\"Lista de monedas introducidas: \", SM)\n",
        "  # Aseguramos que SM esté siempre ordenado de mayor a menor\n",
        "  SM.sort(reverse=True)\n",
        "  print(\"Lista de monedas ordenadas   : \", SM)\n",
        "\n",
        "  SOLUCION = [0]*len(SM)   #SOLUCION = [0,0,0,0,..]\n",
        "  ValorAcumulado = 0\n",
        "\n",
        "  for i,valor in enumerate(SM):\n",
        "    monedas =  (N-ValorAcumulado) // valor  # Averiguar cuantas monedas de ese valor podemos usar\n",
        "    SOLUCION[i] = monedas\n",
        "    ValorAcumulado = ValorAcumulado + monedas*valor\n",
        "\n",
        "  # Mejoramos la salida con más información del cambio que se devuelve\n",
        "  print(\"\\nDesglose del cambio:\")\n",
        "  for cantidad, valor in zip(SOLUCION, SM):\n",
        "        if cantidad > 0:\n",
        "            print(f\"{cantidad} moneda(s) de {valor} -> {cantidad * valor} valor total\")\n",
        "\n",
        "  if ValorAcumulado == N:\n",
        "    return SOLUCION\n",
        "\n",
        "#Ejemplo\n",
        "variante_cambio_monedas(123,[10,5,25,1])"
      ],
      "metadata": {
        "colab": {
          "base_uri": "https://localhost:8080/"
        },
        "id": "WUUppAFyDS3z",
        "outputId": "0a07923e-a11a-4ebf-ec95-1899d1960486"
      },
      "execution_count": null,
      "outputs": [
        {
          "output_type": "stream",
          "name": "stdout",
          "text": [
            "Lista de monedas introducidas:  [10, 5, 25, 1]\n",
            "Lista de monedas ordenadas   :  [25, 10, 5, 1]\n",
            "\n",
            "Desglose del cambio:\n",
            "4 moneda(s) de 25 -> 100 valor total\n",
            "2 moneda(s) de 10 -> 20 valor total\n",
            "3 moneda(s) de 1 -> 3 valor total\n"
          ]
        },
        {
          "output_type": "execute_result",
          "data": {
            "text/plain": [
              "[4, 2, 0, 3]"
            ]
          },
          "metadata": {},
          "execution_count": 12
        }
      ]
    },
    {
      "cell_type": "markdown",
      "metadata": {
        "id": "g8M9GTvy_Fa3"
      },
      "source": [
        "## N-Reinas por técnica de vueta atrás\n"
      ]
    },
    {
      "cell_type": "code",
      "metadata": {
        "id": "FqOPyCmv_K65",
        "colab": {
          "base_uri": "https://localhost:8080/"
        },
        "outputId": "818c3c70-f195-4fc5-ec3f-fbd736ad3f3b"
      },
      "source": [
        "def escribe(S):\n",
        "  n = len(S)\n",
        "  for x in range(n):\n",
        "    print(\"\")\n",
        "    for i in range(n):\n",
        "      if S[i] == x+1:\n",
        "        print(\" X \" , end=\"\")\n",
        "      else:\n",
        "        print(\" - \", end=\"\")\n",
        "\n",
        "\n",
        "def es_prometedora(SOLUCION,etapa):\n",
        "  #print(SOLUCION)\n",
        "  #Si la solución tiene dos valores iguales no es valida => Dos reinas en la misma fila\n",
        "  for i in range(etapa+1):\n",
        "    #print(\"El valor \" + str(SOLUCION[i]) + \" está \" +  str(SOLUCION.count(SOLUCION[i])) + \" veces\")\n",
        "    if SOLUCION.count(SOLUCION[i]) > 1:\n",
        "      return False\n",
        "\n",
        "    #Verifica las diagonales\n",
        "    for j in range(i+1, etapa +1 ):\n",
        "      #print(\"Comprobando diagonal de \" + str(i) + \" y \" + str(j))\n",
        "      if abs(i-j) == abs(SOLUCION[i]-SOLUCION[j]) : return False\n",
        "  return True\n",
        "\n",
        "\n",
        "\n",
        "def reinas(N, solucion=[], etapa=0):\n",
        "  if len(solucion) == 0:\n",
        "      solucion=[0 for i in range(N)]\n",
        "\n",
        "  for i in range(1, N+1):\n",
        "    solucion[etapa] = i\n",
        "\n",
        "    if es_prometedora(solucion, etapa):\n",
        "      if etapa == N-1:\n",
        "        print(solucion)\n",
        "        #escribe(solucion)\n",
        "        print()\n",
        "      else:\n",
        "        reinas(N, solucion, etapa+1)\n",
        "    else:\n",
        "      None\n",
        "\n",
        "    solucion[etapa] = 0\n",
        "\n",
        "reinas(8)"
      ],
      "execution_count": null,
      "outputs": [
        {
          "output_type": "stream",
          "name": "stdout",
          "text": [
            "[1, 5, 8, 6, 3, 7, 2, 4]\n",
            "\n",
            "[1, 6, 8, 3, 7, 4, 2, 5]\n",
            "\n",
            "[1, 7, 4, 6, 8, 2, 5, 3]\n",
            "\n",
            "[1, 7, 5, 8, 2, 4, 6, 3]\n",
            "\n",
            "[2, 4, 6, 8, 3, 1, 7, 5]\n",
            "\n",
            "[2, 5, 7, 1, 3, 8, 6, 4]\n",
            "\n",
            "[2, 5, 7, 4, 1, 8, 6, 3]\n",
            "\n",
            "[2, 6, 1, 7, 4, 8, 3, 5]\n",
            "\n",
            "[2, 6, 8, 3, 1, 4, 7, 5]\n",
            "\n",
            "[2, 7, 3, 6, 8, 5, 1, 4]\n",
            "\n",
            "[2, 7, 5, 8, 1, 4, 6, 3]\n",
            "\n",
            "[2, 8, 6, 1, 3, 5, 7, 4]\n",
            "\n",
            "[3, 1, 7, 5, 8, 2, 4, 6]\n",
            "\n",
            "[3, 5, 2, 8, 1, 7, 4, 6]\n",
            "\n",
            "[3, 5, 2, 8, 6, 4, 7, 1]\n",
            "\n",
            "[3, 5, 7, 1, 4, 2, 8, 6]\n",
            "\n",
            "[3, 5, 8, 4, 1, 7, 2, 6]\n",
            "\n",
            "[3, 6, 2, 5, 8, 1, 7, 4]\n",
            "\n",
            "[3, 6, 2, 7, 1, 4, 8, 5]\n",
            "\n",
            "[3, 6, 2, 7, 5, 1, 8, 4]\n",
            "\n",
            "[3, 6, 4, 1, 8, 5, 7, 2]\n",
            "\n",
            "[3, 6, 4, 2, 8, 5, 7, 1]\n",
            "\n",
            "[3, 6, 8, 1, 4, 7, 5, 2]\n",
            "\n",
            "[3, 6, 8, 1, 5, 7, 2, 4]\n",
            "\n",
            "[3, 6, 8, 2, 4, 1, 7, 5]\n",
            "\n",
            "[3, 7, 2, 8, 5, 1, 4, 6]\n",
            "\n",
            "[3, 7, 2, 8, 6, 4, 1, 5]\n",
            "\n",
            "[3, 8, 4, 7, 1, 6, 2, 5]\n",
            "\n",
            "[4, 1, 5, 8, 2, 7, 3, 6]\n",
            "\n",
            "[4, 1, 5, 8, 6, 3, 7, 2]\n",
            "\n",
            "[4, 2, 5, 8, 6, 1, 3, 7]\n",
            "\n",
            "[4, 2, 7, 3, 6, 8, 1, 5]\n",
            "\n",
            "[4, 2, 7, 3, 6, 8, 5, 1]\n",
            "\n",
            "[4, 2, 7, 5, 1, 8, 6, 3]\n",
            "\n",
            "[4, 2, 8, 5, 7, 1, 3, 6]\n",
            "\n",
            "[4, 2, 8, 6, 1, 3, 5, 7]\n",
            "\n",
            "[4, 6, 1, 5, 2, 8, 3, 7]\n",
            "\n",
            "[4, 6, 8, 2, 7, 1, 3, 5]\n",
            "\n",
            "[4, 6, 8, 3, 1, 7, 5, 2]\n",
            "\n",
            "[4, 7, 1, 8, 5, 2, 6, 3]\n",
            "\n",
            "[4, 7, 3, 8, 2, 5, 1, 6]\n",
            "\n",
            "[4, 7, 5, 2, 6, 1, 3, 8]\n",
            "\n",
            "[4, 7, 5, 3, 1, 6, 8, 2]\n",
            "\n",
            "[4, 8, 1, 3, 6, 2, 7, 5]\n",
            "\n",
            "[4, 8, 1, 5, 7, 2, 6, 3]\n",
            "\n",
            "[4, 8, 5, 3, 1, 7, 2, 6]\n",
            "\n",
            "[5, 1, 4, 6, 8, 2, 7, 3]\n",
            "\n",
            "[5, 1, 8, 4, 2, 7, 3, 6]\n",
            "\n",
            "[5, 1, 8, 6, 3, 7, 2, 4]\n",
            "\n",
            "[5, 2, 4, 6, 8, 3, 1, 7]\n",
            "\n",
            "[5, 2, 4, 7, 3, 8, 6, 1]\n",
            "\n",
            "[5, 2, 6, 1, 7, 4, 8, 3]\n",
            "\n",
            "[5, 2, 8, 1, 4, 7, 3, 6]\n",
            "\n",
            "[5, 3, 1, 6, 8, 2, 4, 7]\n",
            "\n",
            "[5, 3, 1, 7, 2, 8, 6, 4]\n",
            "\n",
            "[5, 3, 8, 4, 7, 1, 6, 2]\n",
            "\n",
            "[5, 7, 1, 3, 8, 6, 4, 2]\n",
            "\n",
            "[5, 7, 1, 4, 2, 8, 6, 3]\n",
            "\n",
            "[5, 7, 2, 4, 8, 1, 3, 6]\n",
            "\n",
            "[5, 7, 2, 6, 3, 1, 4, 8]\n",
            "\n",
            "[5, 7, 2, 6, 3, 1, 8, 4]\n",
            "\n",
            "[5, 7, 4, 1, 3, 8, 6, 2]\n",
            "\n",
            "[5, 8, 4, 1, 3, 6, 2, 7]\n",
            "\n",
            "[5, 8, 4, 1, 7, 2, 6, 3]\n",
            "\n",
            "[6, 1, 5, 2, 8, 3, 7, 4]\n",
            "\n",
            "[6, 2, 7, 1, 3, 5, 8, 4]\n",
            "\n",
            "[6, 2, 7, 1, 4, 8, 5, 3]\n",
            "\n",
            "[6, 3, 1, 7, 5, 8, 2, 4]\n",
            "\n",
            "[6, 3, 1, 8, 4, 2, 7, 5]\n",
            "\n",
            "[6, 3, 1, 8, 5, 2, 4, 7]\n",
            "\n",
            "[6, 3, 5, 7, 1, 4, 2, 8]\n",
            "\n",
            "[6, 3, 5, 8, 1, 4, 2, 7]\n",
            "\n",
            "[6, 3, 7, 2, 4, 8, 1, 5]\n",
            "\n",
            "[6, 3, 7, 2, 8, 5, 1, 4]\n",
            "\n",
            "[6, 3, 7, 4, 1, 8, 2, 5]\n",
            "\n",
            "[6, 4, 1, 5, 8, 2, 7, 3]\n",
            "\n",
            "[6, 4, 2, 8, 5, 7, 1, 3]\n",
            "\n",
            "[6, 4, 7, 1, 3, 5, 2, 8]\n",
            "\n",
            "[6, 4, 7, 1, 8, 2, 5, 3]\n",
            "\n",
            "[6, 8, 2, 4, 1, 7, 5, 3]\n",
            "\n",
            "[7, 1, 3, 8, 6, 4, 2, 5]\n",
            "\n",
            "[7, 2, 4, 1, 8, 5, 3, 6]\n",
            "\n",
            "[7, 2, 6, 3, 1, 4, 8, 5]\n",
            "\n",
            "[7, 3, 1, 6, 8, 5, 2, 4]\n",
            "\n",
            "[7, 3, 8, 2, 5, 1, 6, 4]\n",
            "\n",
            "[7, 4, 2, 5, 8, 1, 3, 6]\n",
            "\n",
            "[7, 4, 2, 8, 6, 1, 3, 5]\n",
            "\n",
            "[7, 5, 3, 1, 6, 8, 2, 4]\n",
            "\n",
            "[8, 2, 4, 1, 7, 5, 3, 6]\n",
            "\n",
            "[8, 2, 5, 3, 1, 7, 4, 6]\n",
            "\n",
            "[8, 3, 1, 6, 2, 5, 7, 4]\n",
            "\n",
            "[8, 4, 1, 3, 6, 2, 7, 5]\n",
            "\n"
          ]
        }
      ]
    },
    {
      "cell_type": "markdown",
      "source": [
        "## Viaje por el rio. Programación dinámica"
      ],
      "metadata": {
        "id": "p1VZhNzjUfiy"
      }
    },
    {
      "cell_type": "code",
      "source": [
        "TARIFAS = [\n",
        "[0,5,4,3,999,999,999],\n",
        "[999,0,999,2,3,999,11],\n",
        "[999,999, 0,1,999,4,10],\n",
        "[999,999,999, 0,5,6,9],\n",
        "[999,999, 999,999,0,999,4],\n",
        "[999,999, 999,999,999,0,3],\n",
        "[999,999,999,999,999,999,0]\n",
        "]\n",
        "\n",
        "\n",
        "\n",
        "################################################################\n",
        "def Precios(TARIFAS):\n",
        "################################################################\n",
        "  #Total de Nodos\n",
        "  N = len(TARIFAS[0])\n",
        "\n",
        "  #Inicialización de la tabla de precios\n",
        "  PRECIOS = [ [9999]*N for i in [9999]*N]\n",
        "  RUTA = [ [\"\"]*N for i in [\"\"]*N]\n",
        "\n",
        "  for i in range(0,N-1):\n",
        "    RUTA[i][i] = i             #Para ir de i a i se \"pasa por i\"\n",
        "    PRECIOS[i][i] = 0          #Para ir de i a i se se paga 0\n",
        "    for j in range(i+1, N):\n",
        "      MIN = TARIFAS[i][j]\n",
        "      RUTA[i][j] = i\n",
        "\n",
        "      for k in range(i, j):\n",
        "        if PRECIOS[i][k] + TARIFAS[k][j] < MIN:\n",
        "            MIN = min(MIN, PRECIOS[i][k] + TARIFAS[k][j] )\n",
        "            RUTA[i][j] = k          #Anota que para ir de i a j hay que pasar por k\n",
        "        PRECIOS[i][j] = MIN\n",
        "\n",
        "  return PRECIOS,RUTA\n",
        "################################################################\n",
        "\n",
        "\n",
        "PRECIOS,RUTA = Precios(TARIFAS)\n",
        "#print(PRECIOS[0][6])\n",
        "\n",
        "print(\"PRECIOS\")\n",
        "for i in range(len(TARIFAS)):\n",
        "  print(PRECIOS[i])\n",
        "\n",
        "print(\"\\nRUTA\")\n",
        "for i in range(len(TARIFAS)):\n",
        "  print(RUTA[i])\n",
        "\n",
        "#Determinar la ruta con Recursividad\n",
        "def calcular_ruta(RUTA, desde, hasta):\n",
        "  if desde == hasta:\n",
        "    #print(\"Ir a :\" + str(desde))\n",
        "    return \"\"\n",
        "  else:\n",
        "    return str(calcular_ruta(RUTA, desde, RUTA[desde][hasta])) +  \\\n",
        "                ',' + \\\n",
        "                str(RUTA[desde][hasta] \\\n",
        "              )\n",
        "\n",
        "print(\"\\nLa ruta es:\")\n",
        "calcular_ruta(RUTA, 0,6)"
      ],
      "metadata": {
        "colab": {
          "base_uri": "https://localhost:8080/",
          "height": 365
        },
        "id": "qoqU1XciUdRn",
        "outputId": "50a80171-6271-4ae8-b5a0-28b8203ef012"
      },
      "execution_count": null,
      "outputs": [
        {
          "output_type": "stream",
          "name": "stdout",
          "text": [
            "PRECIOS\n",
            "[0, 5, 4, 3, 8, 8, 11]\n",
            "[9999, 0, 999, 2, 3, 8, 7]\n",
            "[9999, 9999, 0, 1, 6, 4, 7]\n",
            "[9999, 9999, 9999, 0, 5, 6, 9]\n",
            "[9999, 9999, 9999, 9999, 0, 999, 4]\n",
            "[9999, 9999, 9999, 9999, 9999, 0, 3]\n",
            "[9999, 9999, 9999, 9999, 9999, 9999, 9999]\n",
            "\n",
            "RUTA\n",
            "[0, 0, 0, 0, 1, 2, 5]\n",
            "['', 1, 1, 1, 1, 3, 4]\n",
            "['', '', 2, 2, 3, 2, 5]\n",
            "['', '', '', 3, 3, 3, 3]\n",
            "['', '', '', '', 4, 4, 4]\n",
            "['', '', '', '', '', 5, 5]\n",
            "['', '', '', '', '', '', '']\n",
            "\n",
            "La ruta es:\n"
          ]
        },
        {
          "output_type": "execute_result",
          "data": {
            "text/plain": [
              "',0,2,5'"
            ],
            "application/vnd.google.colaboratory.intrinsic+json": {
              "type": "string"
            }
          },
          "metadata": {},
          "execution_count": 7
        }
      ]
    }
  ]
}