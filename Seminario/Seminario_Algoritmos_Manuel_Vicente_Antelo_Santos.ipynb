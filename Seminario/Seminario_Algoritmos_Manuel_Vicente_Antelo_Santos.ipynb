{
  "cells": [
    {
      "cell_type": "markdown",
      "metadata": {
        "id": "view-in-github",
        "colab_type": "text"
      },
      "source": [
        "<a href=\"https://colab.research.google.com/github/manuelantelo/03MAIR-Algoritmos-de-Optimizacion/blob/master/Seminario/Seminario_Algoritmos_Manuel_Vicente_Antelo_Santos.ipynb\" target=\"_parent\"><img src=\"https://colab.research.google.com/assets/colab-badge.svg\" alt=\"Open In Colab\"/></a>"
      ]
    },
    {
      "cell_type": "markdown",
      "metadata": {
        "id": "hVbXYX-RfPWh"
      },
      "source": [
        "# Algoritmos de optimización - Seminario<br>\n",
        "Nombre y Apellidos: **MANUEL VICENTE ANTELO SANTOS** <br>\n",
        "Url Colab: https://colab.research.google.com/drive/1FQvAEoo4LoVWljHnQPjOpVTl603qhuce\n",
        "\n",
        "Url GitHbub: https://github.com/manuelantelo/03MAIR-Algoritmos-de-Optimizacion/blob/master/Practica/Seminario_Algoritmos_Manuel_Vicente_Antelo_Santos.ipynb<br>\n",
        "Problema:\n",
        "> 1. Sesiones de doblaje <br>\n",
        "\n",
        "Descripción del problema: Organizar sesiones de doblaje\n",
        "* Se precisa coordinar el doblaje de una película. Los actores de doblaje deben coincidir en las tomas en las que sus personajes aparecen juntos en las diferentes tomas. Los actos de doblaje cobran todos la misma cantidad por cada día que deben desplazarse hasta el estudio de grabación independientemente del número de tomas que se graven. No es posible grabar más de 6 tomas por día. El objetivo es planificar las sesiones por día de manera que el gasto por los servicios de los actores de doblaje sea el menor posible.\n",
        "  \n",
        "* Los datos son:\n",
        "  - Nº de actores = 10\n",
        "  - Nº de tomas = 30\n",
        "  - Matriz binaria de participación: A[i][j] = 1 si el actor j participa en la toma i.\n",
        "  - Una toma puede grabarse un solo día.\n",
        "  - Cada actor cobra una única vez por día, sin importar las tomas.\n",
        "  - No se pueden grabar más de 6 tomas por día.\n",
        "  -\n",
        "\n",
        "* Objetivo: organizar las sesiones (días de grabación) para minimizar el coste total actor/día; es decir, minimizar el número de veces que los actores deben acudir al estudio ya que \"los actores cobran lo mismo por cada día que se desplazan al estudio, indendientementel del nº de tomas que hagan\".\n",
        "\n",
        "\n",
        "**Modelado del problema**\n",
        "Se representa la participación de los actores mediante una matriz binaria A[i][j]:\n",
        " - Filas: tomas (de 0 a 29).\n",
        " - Columnas: actores (de 0 a 9).\n",
        "\n",
        "Técnica aplicada: **Programación entera binaria con restricciones (implementada mediante heurística voraz + mejora local por intercambio de variable)**\n",
        "* Fase 1 (heurística voraz):\n",
        "  - Se asignada cada toma al día que implique convocar al menor número de actores nuevos teniendo en cuenta que tiene un máximo de 6 tomas y se eligirá el día con menor coste.\n",
        "    Esta decisión es localmente óptima y se toma en base a la diferencia de conjuntos: actores_nuevos = actores_toma - actores_ya_convocados_en_dia\n",
        "\n",
        "* Fase 2 (mejora por intercambio):\n",
        "  - Con la solución inicial se intenta intercambiar tomas entre pares de dias para ver si el intercambio de variable reduce el total de actores convocados y se aceptaría repitiéndose hasta no encontrar mejoras.\n"
      ]
    },
    {
      "cell_type": "code",
      "execution_count": null,
      "metadata": {
        "id": "AiskKkzZfy4e"
      },
      "outputs": [],
      "source": [
        "# Poner aquí el código"
      ]
    },
    {
      "cell_type": "code",
      "execution_count": null,
      "metadata": {
        "id": "RTjz0rnNruTN"
      },
      "outputs": [],
      "source": [
        "# Poner aquí el código"
      ]
    },
    {
      "cell_type": "code",
      "execution_count": null,
      "metadata": {
        "id": "vFbuXHM5ruTO"
      },
      "outputs": [],
      "source": [
        "# Poner aquí el código"
      ]
    },
    {
      "cell_type": "code",
      "execution_count": null,
      "metadata": {
        "id": "l0rLj43fruTO"
      },
      "outputs": [],
      "source": [
        "# Poner aquí el código"
      ]
    },
    {
      "cell_type": "code",
      "execution_count": null,
      "metadata": {
        "id": "OXdQwOr5ruTO"
      },
      "outputs": [],
      "source": [
        "# Poner aquí el código"
      ]
    },
    {
      "cell_type": "markdown",
      "metadata": {
        "id": "3_-exlrTgLd-"
      },
      "source": [
        "(*)¿Cuantas posibilidades hay sin tener en cuenta las restricciones?<br>\n",
        "- Por cada una de las 30 tomas se tiene 6 opciones que son los días posibles.\n",
        "  Entonces: $6^{30}$ = 221 mil billones de combinaciones posibles\n",
        "\n",
        "\n",
        "¿Cuantas posibilidades hay teniendo en cuenta todas las restricciones.\n",
        "- Las restribuciones son:\n",
        "  \n",
        "  a) Cada día puede contener como máximo 6 tomas y cada toma debe ser asignada a exactamente un día.\n",
        "\n",
        "  b) total de días utilizados puede ser ≤ 6.\n",
        "\n",
        "Buscamos calcular todas las formas posibles de repartir 30 tomas en 6 días con la condición de que cada tía tenga exactamente 6 tomas.\n",
        "\n",
        "Entonces: $\\frac{30!}{(6!)^6} \\approx 1{,}896 \\times 10^{15}$ posibilidades = **1.9 mil billones** de repartir las 30 tomas en 6 días cumpliendo las restricciones impuestas.\n",
        "   \n",
        "Conclusión:\n",
        "Este problema no es viable usando un algoritmo de fuerza bruta.\n"
      ]
    },
    {
      "cell_type": "markdown",
      "metadata": {
        "id": "WfCUqJyKhPcw"
      },
      "source": [
        "Respuesta"
      ]
    },
    {
      "cell_type": "code",
      "execution_count": null,
      "metadata": {
        "id": "iq6Fe32MgpDX"
      },
      "outputs": [],
      "source": []
    },
    {
      "cell_type": "markdown",
      "metadata": {
        "id": "dzynfVJahHoY"
      },
      "source": [
        "Modelo para el espacio de soluciones<br>\n",
        "(*) ¿Cual es la estructura de datos que mejor se adapta al problema? Argumentalo.(Es posible que hayas elegido una al principio y veas la necesidad de cambiar, arguentalo)\n"
      ]
    },
    {
      "cell_type": "markdown",
      "metadata": {
        "id": "xFIJrOwKi2Ti"
      },
      "source": [
        "El espacio de soluciones representa el conjunto de todas las configuraciones posibles que cumplen las restricciones del problema.\n",
        "Durante la primera fase debemos realizar un modelo del problema a resolver.\n",
        "\n",
        "El espacio de soluciones lo forman todas las posibles asignaciones válidas, y la solución óptima es aquella que minimiza o maximiza una función objetivo bajo esas restricciones.\n",
        "\n",
        "La solución es una forma de distribuir las 30 tomas en 6 días (con máximo 6 tomas por día), respetando:\n",
        " - Cada toma asignada una única vez.\n",
        " - Cada día con máximo 6 tomas.\n",
        " - Se busca minimizar el coste actor/día.\n",
        "\n",
        "El espacio de soluciones es el conjunto de todas las particiones posibles del conjunto {0, 1, ..., 29} (30 tomas), en 6 subconjuntos disjuntos de tamaño ≤ 6, donde la unión de todos los subconjuntos cubra todas las tomas sin repeticiones.\n",
        "\n",
        "Se define como: $$\n",
        "S = \\left\\{ (D_1, D_2, \\ldots, D_6) \\mid D_i \\subseteq \\{0, \\ldots, 29\\},\\ \\bigcup D_i = \\{0, \\ldots, 29\\},\\ |D_i| \\leq 6,\\ D_i \\cap D_j = \\emptyset \\text{ si } i \\ne j \\right\\}\n",
        "$$\n",
        "\n",
        "La estructura más adecuada para representar la solución fue usar una \"lista de listas\" y no tuve necesidad de cambiar por los algoritmos que he usado.\n",
        "Ventajas:\n",
        "a) Cada sublista representa un día lo que facilita el cumplimiento de restricciones y la evaluación eficiente del coste actor/día así como contiene los índices de las tomas asignadas a ese día.\n",
        "b) Es más fácil mover las tomas entre días, el intercambio de variables en las sublistas así como clonarlas.\n",
        "c) Se calcula rápidamente los actores involucrados en cada día a partir de las tomas asignadas. Ejemplo np.where(SESIONES[toma] == 1)[0])\n",
        "\n",
        "El manual de la asignatura sugiere que, para problemas de asignación, debemos construir representaciones estructuradas, modificables y evaluables rápidamente, especialmente si aplicamos técnicas heurísticas o metaheurísticas.\n",
        "\n"
      ]
    },
    {
      "cell_type": "code",
      "execution_count": null,
      "metadata": {
        "id": "38c-7-ejhJmA"
      },
      "outputs": [],
      "source": []
    },
    {
      "cell_type": "markdown",
      "metadata": {
        "id": "7Z9U2W7bi-XS"
      },
      "source": [
        "Según el modelo para el espacio de soluciones<br>\n",
        "(*)¿Cual es la función objetivo?\n",
        "La función objetivo consiste en ***minimizar el número total de actores/día**.\n",
        "\n",
        "Dimensiones:\n",
        "- (30 tomas x 10 actores)\n",
        "- $A[t][a] = 1$ : el actor $a$ participa en la toma $t$  \n",
        "- $A[t][a] = 0$ : el actor $a$ **no** participa en la toma $t$\n",
        "\n",
        "\n",
        "Dado un vector de 6 días:\n",
        "\n",
        "$$(D_1, D_2, \\ldots, D_6)$$\n",
        "\n",
        "y una matriz binaria $A \\in \\{0, 1\\}^{30 \\times 10}$, donde:\n",
        "\n",
        "$$A[t][a] = 1 \\quad \\text{si el actor } a \\text{ participa en la toma } t$$\n",
        "\n",
        "La función objetivo $f$ se define como:\n",
        "\n",
        "$$f(D_1, \\ldots, D_6) = \\sum_{i=1}^{6} \\left| \\bigcup_{t \\in D_i} \\text{actores}(t) \\right|$$\n",
        "\n",
        "Es decir, la suma del número de actores distintos convocados en cada día.\n",
        "\n",
        "Para cada día $D_i$, se calcula el conjunto de actores distintos que participan en las tomas asignadas a ese día luego se suma el número de actores distintos convocados para ese día y como resultado se obtiene el **coste total del actor/día**\n",
        "\n",
        "La **función objetivo** del modelo para el espacio de soluciones es: $$\\min \\sum_{i=1}^{6} \\left| \\bigcup_{t \\in D_i} \\text{actores}(t) \\right|$$\n",
        "\n",
        "(*)¿Es un problema de maximización o minimización?\n",
        "Es un problema de minimización ya que es objetivo es minimizar el número total de actores convocados cada  día durante todas las sesiones de doblaje.\n",
        "Ventajas:\n",
        "- Llamar a menos actores por día va a reducir el coste de producción.\n",
        "- Permite realizar más tomas con el mínimo número de actos disponibles por día."
      ]
    },
    {
      "cell_type": "markdown",
      "metadata": {
        "id": "hBalWLM7j1_d"
      },
      "source": [
        "Respuesta"
      ]
    },
    {
      "cell_type": "markdown",
      "metadata": {
        "id": "rlnTYgY1j6I2"
      },
      "source": [
        "Diseña un algoritmo para resolver el problema por fuerza bruta"
      ]
    },
    {
      "cell_type": "code",
      "execution_count": 1,
      "metadata": {
        "id": "CJb5sQ0qkENy",
        "colab": {
          "base_uri": "https://localhost:8080/"
        },
        "outputId": "64b45022-1896-46c5-d0c7-5f3a18d6d063"
      },
      "outputs": [
        {
          "output_type": "stream",
          "name": "stdout",
          "text": [
            "[FUERZA BRUTA - PRUEBA CON 6 TOMAS]\n",
            "Día 1: Tomas [0, 1, 5] Actores: [np.int64(0), np.int64(1), np.int64(2), np.int64(3), np.int64(4)] (Nº actores: 5)\n",
            "Día 2: Tomas [2, 3, 4] Actores: [np.int64(0), np.int64(1), np.int64(3), np.int64(4), np.int64(6), np.int64(7)] (Nº actores: 6)\n",
            "\n",
            "Coste total mínimo: 11 actor/día\n"
          ]
        }
      ],
      "source": [
        "# Fuerza Bruta para 6 tomas y 2 días\n",
        "import numpy as np\n",
        "import itertools\n",
        "\n",
        "# Subconjunto de la matriz SESIONES (6 tomas x 10 actores)\n",
        "SESIONES = np.array([\n",
        "    [1,1,1,1,1,0,0,0,0,0],  # Toma  0: Actores: 0, 1, 2, 3, 4\n",
        "    [0,0,1,1,1,0,0,0,0,0],  # Toma  1: Actores: 2, 3, 4\n",
        "    [0,1,0,0,1,0,1,0,0,0],  # Toma  2: Actores: 1, 4, 6\n",
        "    [1,1,0,0,0,0,1,1,0,0],  # Toma  3: Actores: 0, 1, 6, 7\n",
        "    [0,1,0,1,0,0,0,1,0,0],  # Toma  4: Actores: 1, 3, 7\n",
        "    [1,1,0,1,1,0,0,0,0,0],  # Toma  5: Actores: 0, 1, 3, 4\n",
        "    [1,1,0,1,1,0,0,0,0,0],  # Toma  6: Actores: 0, 1, 3, 4\n",
        "    [1,1,0,0,0,1,0,0,0,0],  # Toma  7: Actores: 0, 1, 5\n",
        "    [1,1,0,1,0,0,0,0,0,0],  # Toma  8: Actores: 0, 1, 3\n",
        "    [1,1,0,0,0,1,0,0,1,0],  # Toma  9: Actores: 0, 1, 5, 8\n",
        "    [1,1,1,0,1,0,0,1,0,0],  # Toma 10: Actores: 0, 1, 2, 4, 7\n",
        "    [1,1,1,1,0,1,0,0,0,0],  # Toma 11: Actores: 0, 1, 2, 3, 5\n",
        "    [1,0,0,1,1,0,0,0,0,0],  # Toma 12: Actores: 0, 3, 4\n",
        "    [1,0,1,0,0,1,0,0,0,0],  # Toma 13: Actores: 0, 2, 5\n",
        "    [1,1,0,0,0,0,1,0,0,0],  # Toma 14: Actores: 0, 1, 6\n",
        "    [0,0,0,1,0,0,0,0,0,1],  # Toma 15: Actores: 3, 9\n",
        "    [1,0,1,0,0,0,0,0,0,0],  # Toma 16: Actores: 0, 2\n",
        "    [0,0,1,0,0,1,0,0,0,0],  # Toma 17: Actores: 2, 5\n",
        "    [1,0,1,0,0,0,0,0,0,0],  # Toma 18: Actores: 0, 2\n",
        "    [1,0,1,1,1,0,0,0,0,0],  # Toma 19: Actores: 0, 2, 3, 4\n",
        "    [0,0,0,0,0,1,0,1,0,0],  # Toma 20: Actores: 5, 7\n",
        "    [1,1,1,1,0,0,0,0,0,0],  # Toma 21: Actores: 0, 1, 2, 3\n",
        "    [1,0,1,0,0,0,0,0,0,0],  # Toma 22: Actores: 0, 2\n",
        "    [0,0,1,0,0,1,0,0,0,0],  # Toma 23: Actores: 2, 5\n",
        "    [1,1,0,1,0,0,0,0,0,1],  # Toma 24: Actores: 0, 1, 3, 9\n",
        "    [1,0,1,0,1,0,0,0,1,0],  # Toma 25: Actores: 0, 2, 4, 8\n",
        "    [0,0,0,1,1,0,0,0,0,0],  # Toma 26: Actores: 3, 4\n",
        "    [1,0,0,1,0,0,0,0,0,0],  # Toma 27: Actores: 0, 3\n",
        "    [1,0,0,0,1,1,0,0,0,0],  # Toma 28: Actores: 0, 4, 5\n",
        "    [1,0,0,1,0,0,0,0,0,0],  # Toma 29: actores: 0, 3\n",
        "])\n",
        "\n",
        "SESIONES_REDUCIDA = SESIONES[:6] # Solo las 6 primeras porque es inviable aumentar\n",
        "\n",
        "# Todas las particiones válidas de 6 tomas en 2 días de 3 tomas\n",
        "tomas = list(range(6))\n",
        "mejor_coste = float('inf')\n",
        "mejor_asignacion = None\n",
        "\n",
        "# Generar todas las combinaciones de 3 tomas para el primer día\n",
        "for dia1 in itertools.combinations(tomas, 3):\n",
        "    dia1 = set(dia1)\n",
        "    dia2 = set(tomas) - dia1\n",
        "    asignacion = [list(dia1), list(dia2)]\n",
        "\n",
        "    # Calcular coste actor/día\n",
        "    coste = 0\n",
        "    for dia in asignacion:\n",
        "        actores = set()\n",
        "        for toma in dia:\n",
        "            actores.update(np.where(SESIONES_REDUCIDA[toma] == 1)[0])\n",
        "        coste += len(actores)\n",
        "\n",
        "    if coste < mejor_coste:\n",
        "        mejor_coste = coste\n",
        "        mejor_asignacion = asignacion\n",
        "\n",
        "# Mostrar resultado\n",
        "print(\"[FUERZA BRUTA - PRUEBA CON 6 TOMAS]\")\n",
        "for i, dia in enumerate(mejor_asignacion):\n",
        "    actores = set()\n",
        "    for toma in dia:\n",
        "        actores.update(np.where(SESIONES_REDUCIDA[toma] == 1)[0])\n",
        "    print(f\"Día {i+1}: Tomas {dia} Actores: {sorted(list(actores))} (Nº actores: {len(actores)})\")\n",
        "print(f\"\\nCoste total mínimo: {mejor_coste} actor/día\")\n"
      ]
    },
    {
      "cell_type": "markdown",
      "metadata": {
        "id": "tgrnsC2nkFa8"
      },
      "source": [
        "Calcula la complejidad del algoritmo por fuerza bruta"
      ]
    },
    {
      "cell_type": "markdown",
      "metadata": {
        "id": "9eUd3xwckP68"
      },
      "source": [
        "Respuesta:\n",
        "\n",
        "El algoritmo por fuerza bruta explora **todas las asignaciones posibles** de 30 tomas a 6 días, cumpliendo que:\n",
        "- Cada día tenga exactamente 6 tomas.\n",
        "- Cada toma se asigne una sola vez.\n",
        "- Se minimice el coste total actor/día.\n",
        "\n",
        "El número total de particiones válidas del conjunto $\\{0, \\ldots, 29\\}$ en 6 subconjuntos disjuntos de tamaño 6 es:\n",
        "\n",
        "$$\n",
        "\\frac{30!}{(6!)^6} \\approx 1.896 \\times 10^{15}\n",
        "$$\n",
        "\n",
        "Cada solución se evalúa en tiempo constante $\\mathcal{O}(1)$ porque:\n",
        "- Hay 6 días.\n",
        "- Cada día tiene 6 tomas como máximo.\n",
        "- Cada toma tiene como mucho 10 actores.\n",
        "\n",
        "Por tanto, la la **complejidad total** del algoritmo es: $$\\mathcal{O}\\left( \\frac{30!}{(6!)^6} \\right)$$\n",
        "\n",
        "Esto lo hace **computacionalmente inviable** para 30 tomas.  \n",
        "Solo puede utilizarse con instancias reducidas (por ejemplo, 6 u 8 tomas) como he puesto en el código para validación."
      ]
    },
    {
      "cell_type": "markdown",
      "metadata": {
        "id": "txbrmLmskReM"
      },
      "source": [
        "(*)Diseña un algoritmo que mejore la complejidad del algoritmo por fuerza bruta. Argumenta porque crees que mejora el algoritmo por fuerza bruta\n",
        "Propongo el algoritmo de [Ramificación y Poda] para reducir el el nº de soluciones exploradas ya que no explora todas las soluciones, parte del espacio de soluciones de fuerza bruta, usa cotas inferiores para evitar recorrer ramas no prometedoras y; en el peor caso, puede ser igual de lento, pero en la práctica es mucho más eficiente.\n"
      ]
    },
    {
      "cell_type": "code",
      "execution_count": 4,
      "metadata": {
        "id": "hLrVwt5QkZPD",
        "colab": {
          "base_uri": "https://localhost:8080/"
        },
        "outputId": "55661f69-10e8-464a-d610-4c0e0c370aef"
      },
      "outputs": [
        {
          "output_type": "stream",
          "name": "stdout",
          "text": [
            "\n",
            "[RESULTADO RAMIFICACIÓN Y PODA (6 TOMAS)]\n",
            " DÍA TOMAS ASIGNADAS    ACTORES CONVOCADOS  Nº ACTORES\n",
            "   1       [0, 2, 4] [0, 1, 2, 4, 5, 6, 7]           7\n",
            "   2       [1, 3, 5]    [1, 2, 3, 6, 8, 9]           6\n",
            "\n",
            "Coste total mínimo: 13 actores/día\n"
          ]
        }
      ],
      "source": [
        "import pandas as pd\n",
        "\n",
        "# Subconjunto reducido de la matriz SESIONES para 6 tomas y 10 actores\n",
        "SESIONES_REDUCIDA = np.array([\n",
        "    [1, 0, 1, 0, 1, 0, 0, 1, 0, 0],\n",
        "    [0, 1, 0, 1, 0, 0, 1, 0, 0, 1],\n",
        "    [1, 1, 0, 0, 0, 1, 1, 0, 0, 0],\n",
        "    [0, 0, 1, 1, 0, 0, 0, 0, 1, 1],\n",
        "    [1, 0, 0, 0, 1, 1, 0, 1, 0, 0],\n",
        "    [0, 1, 1, 0, 0, 0, 1, 0, 1, 0]\n",
        "])\n",
        "\n",
        "MAX_TOMAS = 6\n",
        "MAX_TOMAS_DIA = 3\n",
        "MAX_DIAS = 2\n",
        "NUM_ACTORES = 10\n",
        "\n",
        "mejor_coste = float('inf')\n",
        "mejor_solucion = None\n",
        "\n",
        "def coste(solucion, sesiones):\n",
        "    total = 0\n",
        "    for dia in solucion:\n",
        "        actores = set()\n",
        "        for toma in dia:\n",
        "            actores.update(np.where(sesiones[toma] == 1)[0])\n",
        "        total += len(actores)\n",
        "    return total\n",
        "\n",
        "def ramificacion_y_poda(solucion_parcial, tomas_disponibles, sesiones):\n",
        "    global mejor_coste, mejor_solucion\n",
        "    if not tomas_disponibles:\n",
        "        c = coste(solucion_parcial, sesiones)\n",
        "        if c < mejor_coste:\n",
        "            mejor_coste = c\n",
        "            mejor_solucion = [list(d) for d in solucion_parcial]\n",
        "        return\n",
        "\n",
        "    toma = tomas_disponibles[0]\n",
        "    for i in range(MAX_DIAS):\n",
        "        if len(solucion_parcial[i]) < MAX_TOMAS_DIA:\n",
        "            solucion_parcial[i].append(toma)\n",
        "\n",
        "            cota = coste(solucion_parcial, sesiones)\n",
        "            if cota < mejor_coste:\n",
        "                ramificacion_y_poda(solucion_parcial, tomas_disponibles[1:], sesiones)\n",
        "\n",
        "            solucion_parcial[i].pop()\n",
        "\n",
        "# Ejecutar\n",
        "sol_inicial = [[] for _ in range(MAX_DIAS)]\n",
        "ramificacion_y_poda(sol_inicial, list(range(MAX_TOMAS)), SESIONES_REDUCIDA)\n",
        "\n",
        "# Mostrar resultados\n",
        "resultado = []\n",
        "for i, dia in enumerate(mejor_solucion):\n",
        "    actores = set()\n",
        "    for toma in dia:\n",
        "        actores.update(np.where(SESIONES_REDUCIDA[toma] == 1)[0])\n",
        "    resultado.append({\n",
        "        \"DÍA\": i + 1,\n",
        "        \"TOMAS ASIGNADAS\": dia,\n",
        "        \"ACTORES CONVOCADOS\": sorted(list(actores)),\n",
        "        \"Nº ACTORES\": len(actores)\n",
        "    })\n",
        "\n",
        "df_rp = pd.DataFrame(resultado)\n",
        "print(\"\\n[RESULTADO RAMIFICACIÓN Y PODA (6 TOMAS)]\")\n",
        "print(df_rp.to_string(index=False))\n",
        "print(f\"\\nCoste total mínimo: {mejor_coste} actores/día\")\n"
      ]
    },
    {
      "cell_type": "markdown",
      "metadata": {
        "id": "eGDB4K6uk1iN"
      },
      "source": [
        "(*) Calcula la complejidad del algoritmo\n",
        "\n",
        "El algoritmo de Ramificación y Poda explora un árbol de decisiones en el que cada nivel representa la asignación de una toma a un día, y aplica poda para eliminar ramas no prometedoras.\n",
        "Si no hubiera poda, cada una de las $n = 30$ tomas podría asignarse a uno de los 6 días:\n",
        "$$\n",
        "\\text{Nº de nodos sin poda} \\leq 6^{30}\n",
        "$$\n",
        "\n",
        "Esto es una complejidad exponencial inasumible.\n",
        "\n",
        "Se podan ramas del árbol cuando:\n",
        "- Se supera el límite de 6 tomas por día (es inviable a partir de ese número).\n",
        "- La cota inferior del nodo actual es mayor o igual que la mejor solución conocida.\n",
        "\n",
        "Esto reduce enormemente el número de nodos explorados en la práctica.\n",
        "\n",
        "Complejidad:\n",
        "**Peor caso (sin poda efectiva):** $$\\mathcal{O}(6^n)\\quad \\text{donde } n = \\text{nº de tomas}$$\n",
        "\n",
        "**Mejor caso (con poda eficiente):**\n",
        "  - Explora solo una pequeña fracción del árbol.\n",
        "  - Solución óptima o casi óptima en tiempo razonable y más rápido que con fuerza bruta.\n",
        "\n",
        "Aunque [Ramificación y Poda] tiene también complejidad exponencial en el peor caso, la utilización de poda basada en cotas permite resolver instancias que sería imposibles popr [Fuerza Bruta]."
      ]
    },
    {
      "cell_type": "markdown",
      "metadata": {
        "id": "3M6QjTsSkmYe"
      },
      "source": [
        "**Según el problema (y tenga sentido), diseña un juego de datos de entrada aleatorios**"
      ]
    },
    {
      "cell_type": "code",
      "execution_count": 5,
      "metadata": {
        "id": "Jc3_OlyNkvjZ"
      },
      "outputs": [],
      "source": [
        "def generar_matriz_sesiones(num_tomas, num_actores, min_actores, max_actores, seed):\n",
        "    \"\"\"\n",
        "    Genera una matriz binaria SESIONES de tamaño (num_tomas x num_actores),\n",
        "    donde cada fila representa una toma y cada columna representa un actor.\n",
        "\n",
        "    Parámetros:\n",
        "    - num_tomas: número total de tomas (filas de la matriz)\n",
        "    - num_actores: número total de actores (columnas de la matriz)\n",
        "    - min_actores: número mínimo de actores por toma\n",
        "    - max_actores: número máximo de actores por toma\n",
        "    - seed: semilla para datos aleatorios\n",
        "\n",
        "    Retorna:\n",
        "    - SESIONES: matriz binaria aleatoria de dimensiones (num_tomas x num_actores)\n",
        "    \"\"\"\n",
        "\n",
        "    # Fijamos la semilla para obtener resultados\n",
        "    np.random.seed(seed)\n",
        "\n",
        "    # Inicializamos la matriz SESIONES con ceros (ningún actor participa aún)\n",
        "    SESIONES = np.zeros((num_tomas, num_actores), dtype=int)\n",
        "\n",
        "    # Para cada toma (fila), elegimos un número aleatorio de actores que participarán\n",
        "    for toma in range(num_tomas):\n",
        "        # Seleccionamos aleatoriamente entre min_actores y max_actores\n",
        "        n_actores = np.random.randint(min_actores, max_actores + 1)\n",
        "\n",
        "        # Elegimos 'n_actores' actores diferentes (sin repetición) de entre todos los disponibles\n",
        "        actores_en_toma = np.random.choice(num_actores, size=n_actores, replace=False)\n",
        "\n",
        "        # Asignamos un 1 en la matriz para indicar qué actores participan en esta toma\n",
        "        SESIONES[toma, actores_en_toma] = 1\n",
        "\n",
        "    return SESIONES"
      ]
    },
    {
      "cell_type": "markdown",
      "metadata": {
        "id": "zy5ZROmjlGo1"
      },
      "source": [
        "**Aplica el algoritmo al juego de datos generado**"
      ]
    },
    {
      "cell_type": "code",
      "execution_count": 6,
      "metadata": {
        "id": "_Cmj-PVylMsa",
        "colab": {
          "base_uri": "https://localhost:8080/"
        },
        "outputId": "c2d30f21-ef88-48a5-f50d-6f869a396525"
      },
      "outputs": [
        {
          "output_type": "stream",
          "name": "stdout",
          "text": [
            "Primeras 5 tomas de la matriz SESIONES:\n",
            "[[1 0 0 0 0 1 1 0 0 1]\n",
            " [1 1 0 0 0 0 1 0 1 1]\n",
            " [0 0 1 0 0 0 1 0 1 0]\n",
            " [0 1 0 0 1 1 0 0 1 0]\n",
            " [0 0 1 0 0 1 0 1 0 1]]\n"
          ]
        }
      ],
      "source": [
        "# Generamos una matriz SESIONES aleatoria de 30 tomas y 10 actores\n",
        "NUM_TOMAS = 30\n",
        "NUM_ACTORES = 10\n",
        "MIN_ACTORES = 2\n",
        "MAX_ACTORES = 5\n",
        "SEED = 42\n",
        "\n",
        "SESIONES = generar_matriz_sesiones(\n",
        "    num_tomas=NUM_TOMAS,\n",
        "    num_actores=NUM_ACTORES,\n",
        "    min_actores=MIN_ACTORES,\n",
        "    max_actores=MAX_ACTORES,\n",
        "    seed=SEED\n",
        ")\n",
        "\n",
        "# Mostrar las primeras filas de la matriz generada\n",
        "print(\"Primeras 5 tomas de la matriz SESIONES:\")\n",
        "print(SESIONES[:5])"
      ]
    },
    {
      "cell_type": "markdown",
      "metadata": {
        "id": "eTFWUJQrtGcv"
      },
      "source": [
        "**Enumera las referencias que has utilizado(si ha sido necesario) para llevar a cabo el trabajo**\n",
        "\n",
        "He tenido que mirar el material siguiente:\n",
        "- Manual de la asignatura 'Algoritmos de Optimización' (para decidir qué algoritmos eran propios para resolver el problema).\n",
        "- Manual de la asignatura 'Matemáticas para la IA' (para resolver lo referente a la combinatoria).\n",
        "- Manual de la asignatura 'Python para la IA' (para resolver el código en python).\n",
        "- Web de (numphy) https://numpy.org/ para maniputlación de matrices (modelo de datos de SESIONES, 'itertools' para las combinaciones por fuerza bruta y 'pandas' para visualizar las soluciones."
      ]
    },
    {
      "cell_type": "markdown",
      "metadata": {
        "id": "kAkDPUyRtYyH"
      },
      "source": [
        "**Describe brevemente las lineas de cómo crees que es posible avanzar en el estudio del problema. Ten en cuenta incluso posibles variaciones del problema y/o variaciones al alza del tamaño**\n",
        "\n",
        "El problema de organizar las sesiones de doblaje es un problema de asignación  con restricciones combinatorias ya comentadas anteriormente y su escalabilidad habería que analizarlo; por ejemplo, si se aumentase el número de tomas y de actores se podería evaluar el comportamiento de los algoritmos analizando cómo va creciendo la complejidad o se degrada la solución con las técnicas heurística y metaheurística.\n",
        "\n",
        "Se podría desarrollar heurísticas híbridas que combinansen por ejemplo; GRASP + Búsqueda Tabú (ya incluido en el código este último)."
      ]
    }
  ],
  "metadata": {
    "colab": {
      "provenance": [],
      "include_colab_link": true
    },
    "kernelspec": {
      "display_name": "Python 3 (ipykernel)",
      "language": "python",
      "name": "python3"
    },
    "language_info": {
      "codemirror_mode": {
        "name": "ipython",
        "version": 3
      },
      "file_extension": ".py",
      "mimetype": "text/x-python",
      "name": "python",
      "nbconvert_exporter": "python",
      "pygments_lexer": "ipython3",
      "version": "3.12.3"
    }
  },
  "nbformat": 4,
  "nbformat_minor": 0
}